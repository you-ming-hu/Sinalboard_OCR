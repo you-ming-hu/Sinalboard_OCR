{
 "cells": [
  {
   "cell_type": "code",
   "execution_count": 1,
   "id": "070ccf10",
   "metadata": {},
   "outputs": [],
   "source": [
    "import pathlib\n",
    "import json\n",
    "from collections import Counter\n",
    "from IPython.display import clear_output\n",
    "\n",
    "import cv2\n",
    "import matplotlib.pyplot as plt\n",
    "import numpy as np\n",
    "import pandas as pd"
   ]
  },
  {
   "cell_type": "code",
   "execution_count": 2,
   "id": "7b93dc7b",
   "metadata": {},
   "outputs": [
    {
     "name": "stdout",
     "output_type": "stream",
     "text": [
      "Finish\n"
     ]
    }
   ],
   "source": [
    "js_files = list(pathlib.Path(r'C:\\Users\\Atlas\\Desktop\\Sinalboard_OCR\\dataset\\train\\label\\official').iterdir())\n",
    "for i,js in enumerate(js_files):\n",
    "    print(i)\n",
    "    official_label = json.loads(js.read_text(encoding='utf8'))\n",
    "    H = int(official_label['imageHeight'])\n",
    "    W = int(official_label['imageWidth'])\n",
    "    \n",
    "    bboxes = []\n",
    "    for shape in official_label['shapes']:\n",
    "        points = np.array(shape['points'])\n",
    "        points[:,0] = np.clip(points[:,0],0,W)\n",
    "        points[:,1] = np.clip(points[:,1],0,H)        \n",
    "        x,y,w,h = cv2.boundingRect(points)\n",
    "        \n",
    "        x,w = x/W, w/W\n",
    "        y,h = y/H, h/H\n",
    "        x = x+w/2\n",
    "        y = y+h/2\n",
    "        points = points/np.array([W,H])\n",
    "        \n",
    "        bbox = {}\n",
    "        bbox['text'] = shape['label']\n",
    "        bbox['group'] = shape['group_id']\n",
    "        bbox['points'] = points.tolist()\n",
    "        bbox['center'] = points.mean(axis=0).tolist()\n",
    "        bbox['xywh'] = [x,y,w,h]\n",
    "        bboxes.append(bbox)\n",
    "        \n",
    "    bboxes = sorted(bboxes,key = lambda x: x['center'])\n",
    "    \n",
    "    my_label = {}\n",
    "    my_label['ImageName'] = official_label['imagePath']\n",
    "    my_label['ImageHeight'] = H\n",
    "    my_label['ImageWidth'] = W\n",
    "    my_label['bboxes'] = bboxes\n",
    "    my_label['bboxes_count'] = len(bboxes)\n",
    "    \n",
    "    s = json.dumps(my_label)\n",
    "    pathlib.Path(r'C:\\Users\\Atlas\\Desktop\\Sinalboard_OCR\\dataset\\train\\label\\custom').joinpath(js.name).write_text(s)\n",
    "    clear_output(wait=True)\n",
    "print('Finish')"
   ]
  },
  {
   "cell_type": "code",
   "execution_count": null,
   "id": "d47db14b",
   "metadata": {},
   "outputs": [],
   "source": [
    "irr = []\n",
    "table = {}\n",
    "idx = 0\n",
    "for i,js in enumerate(js_files):\n",
    "    print(i)\n",
    "    label = json.loads(js.read_text(encoding='utf8'))\n",
    "    H = int(label['imageHeight'])\n",
    "    W = int(label['imageWidth'])\n",
    "    for bbox in label['shapes']:\n",
    "        (x0,y0),(x1,y1),(x2,y2),(x3,y3) = bbox['points']\n",
    "        \n",
    "        try:\n",
    "            assert 0<=x0<=W\n",
    "            assert 0<=x1<=W\n",
    "            assert 0<=x2<=W\n",
    "            assert 0<=x3<=W\n",
    "\n",
    "            assert 0<=y0<=H\n",
    "            assert 0<=y1<=H\n",
    "            assert 0<=y2<=H\n",
    "            assert 0<=y3<=H\n",
    "        except Exception:\n",
    "            irr.append(label)\n",
    "\n",
    "        x_lu,y_lu,w,h = cv2.boundingRect(np.array(bbox['points']))\n",
    "        determine = max(w,h)\n",
    "        scaled_determine = max(w*1024/W,h*1024/H)\n",
    "        \n",
    "        table[idx] = {\n",
    "            'image':label['imagePath'],\n",
    "            'H':H,\n",
    "            'W':W,\n",
    "            'group':bbox['group_id'],\n",
    "            'text':bbox['label'],\n",
    "            'x0':x0,'y0':y0,'x1':x1,'y1':y1,'x2':x2,'y2':y2,'x3':x3,'y3':y3,\n",
    "            'x_lu':x_lu,'y_lu':y_lu,'h':h,'w':w,\n",
    "            'determine':determine,'scaled_determine':scaled_determine\n",
    "        }\n",
    "        idx += 1\n",
    "    clear_output(wait=True)\n",
    "table = pd.DataFrame.from_dict(table).T\n",
    "print('Finish')"
   ]
  },
  {
   "cell_type": "code",
   "execution_count": null,
   "id": "fcd0526f",
   "metadata": {},
   "outputs": [],
   "source": [
    "len(irr)"
   ]
  },
  {
   "cell_type": "code",
   "execution_count": null,
   "id": "201d32b0",
   "metadata": {},
   "outputs": [],
   "source": [
    "table.loc[table['group']!=1].groupby('image').count()['group'].sort_values(ascending=False)"
   ]
  },
  {
   "cell_type": "code",
   "execution_count": null,
   "id": "33af9ae0",
   "metadata": {},
   "outputs": [],
   "source": [
    "table['scaled_determine'].min()"
   ]
  },
  {
   "cell_type": "code",
   "execution_count": null,
   "id": "61216a08",
   "metadata": {},
   "outputs": [],
   "source": [
    "plt.figure(figsize=(20,10))\n",
    "table['scaled_determine'].hist(bins=1000)"
   ]
  },
  {
   "cell_type": "code",
   "execution_count": null,
   "id": "50aaeb17",
   "metadata": {},
   "outputs": [],
   "source": [
    "table.loc[table['scaled_determine'] == 1025]"
   ]
  },
  {
   "cell_type": "code",
   "execution_count": null,
   "id": "47d6ddb9",
   "metadata": {},
   "outputs": [],
   "source": [
    "table['scaled_determine'].max()"
   ]
  },
  {
   "cell_type": "code",
   "execution_count": null,
   "id": "7e29c6b2",
   "metadata": {},
   "outputs": [],
   "source": [
    "img = plt.imread(r'C:\\Users\\Atlas\\Desktop\\Sinalboard_OCR\\dataset\\train\\official\\img_2908.jpg')"
   ]
  },
  {
   "cell_type": "code",
   "execution_count": null,
   "id": "fad60fe4",
   "metadata": {},
   "outputs": [],
   "source": [
    "label = json.loads(pathlib.Path(r'C:\\Users\\Atlas\\Desktop\\Sinalboard_OCR\\dataset\\train\\label\\img_2908.json').read_text(encoding='utf8'))"
   ]
  },
  {
   "cell_type": "code",
   "execution_count": null,
   "id": "b50e5537",
   "metadata": {},
   "outputs": [],
   "source": [
    "img = cv2.polylines(img,np.array([x['points'] for x in label['shapes']]),True,(0,255,255),1)"
   ]
  },
  {
   "cell_type": "code",
   "execution_count": null,
   "id": "355dab1f",
   "metadata": {},
   "outputs": [],
   "source": [
    "plt.figure(figsize=(30,30))\n",
    "plt.imshow(img)"
   ]
  },
  {
   "cell_type": "code",
   "execution_count": null,
   "id": "e0a05510",
   "metadata": {},
   "outputs": [],
   "source": [
    "#the image with most bboxes\n",
    "img = plt.imread(r'C:\\Users\\Atlas\\Desktop\\Sinalboard_OCR\\dataset\\train\\official\\img_7626.jpg')"
   ]
  },
  {
   "cell_type": "code",
   "execution_count": null,
   "id": "1337beac",
   "metadata": {},
   "outputs": [],
   "source": [
    "label = json.loads(pathlib.Path(r'C:\\Users\\Atlas\\Desktop\\Sinalboard_OCR\\dataset\\train\\label\\img_7626.json').read_text(encoding='utf8'))"
   ]
  },
  {
   "cell_type": "code",
   "execution_count": null,
   "id": "83ab6102",
   "metadata": {},
   "outputs": [],
   "source": [
    "img = cv2.polylines(img,np.array([x['points'] for x in label['shapes'] if ('' == x['label'])]),True,(255,0,255),1)"
   ]
  },
  {
   "cell_type": "code",
   "execution_count": null,
   "id": "3c9a57e8",
   "metadata": {},
   "outputs": [],
   "source": [
    "plt.figure(figsize=(10,10))\n",
    "plt.imshow(img)"
   ]
  },
  {
   "cell_type": "code",
   "execution_count": null,
   "id": "261941e9",
   "metadata": {},
   "outputs": [],
   "source": [
    "max(bboxes.keys())"
   ]
  },
  {
   "cell_type": "code",
   "execution_count": null,
   "id": "033c1d7b",
   "metadata": {},
   "outputs": [],
   "source": [
    "len(corpus)"
   ]
  },
  {
   "cell_type": "code",
   "execution_count": null,
   "id": "e0e7e3d7",
   "metadata": {},
   "outputs": [],
   "source": [
    "len(image_shape)"
   ]
  },
  {
   "cell_type": "code",
   "execution_count": null,
   "id": "9c50c65c",
   "metadata": {},
   "outputs": [],
   "source": [
    "pd.options.display.max_rows=3700"
   ]
  },
  {
   "cell_type": "code",
   "execution_count": null,
   "id": "1978070a",
   "metadata": {},
   "outputs": [],
   "source": [
    "corpus_series = pd.Series(corpus).sort_values(ascending=False)"
   ]
  },
  {
   "cell_type": "code",
   "execution_count": null,
   "id": "361d0050",
   "metadata": {},
   "outputs": [],
   "source": [
    "import re"
   ]
  },
  {
   "cell_type": "code",
   "execution_count": null,
   "id": "dd56e729",
   "metadata": {},
   "outputs": [],
   "source": [
    "symbol_index = corpus_series.index.map(lambda x:bool(re.match('[^\\u4e00-\\u9fa5a-zA-Z0-9]',x)))"
   ]
  },
  {
   "cell_type": "code",
   "execution_count": null,
   "id": "8eb43da2",
   "metadata": {},
   "outputs": [],
   "source": [
    "corpus_series.loc[symbol_index]"
   ]
  }
 ],
 "metadata": {
  "kernelspec": {
   "display_name": "Python 3",
   "language": "python",
   "name": "python3"
  },
  "language_info": {
   "codemirror_mode": {
    "name": "ipython",
    "version": 3
   },
   "file_extension": ".py",
   "mimetype": "text/x-python",
   "name": "python",
   "nbconvert_exporter": "python",
   "pygments_lexer": "ipython3",
   "version": "3.8.5"
  },
  "toc": {
   "base_numbering": 1,
   "nav_menu": {},
   "number_sections": true,
   "sideBar": true,
   "skip_h1_title": false,
   "title_cell": "Table of Contents",
   "title_sidebar": "Contents",
   "toc_cell": false,
   "toc_position": {},
   "toc_section_display": true,
   "toc_window_display": false
  },
  "varInspector": {
   "cols": {
    "lenName": 16,
    "lenType": 16,
    "lenVar": 40
   },
   "kernels_config": {
    "python": {
     "delete_cmd_postfix": "",
     "delete_cmd_prefix": "del ",
     "library": "var_list.py",
     "varRefreshCmd": "print(var_dic_list())"
    },
    "r": {
     "delete_cmd_postfix": ") ",
     "delete_cmd_prefix": "rm(",
     "library": "var_list.r",
     "varRefreshCmd": "cat(var_dic_list()) "
    }
   },
   "types_to_exclude": [
    "module",
    "function",
    "builtin_function_or_method",
    "instance",
    "_Feature"
   ],
   "window_display": false
  }
 },
 "nbformat": 4,
 "nbformat_minor": 5
}
