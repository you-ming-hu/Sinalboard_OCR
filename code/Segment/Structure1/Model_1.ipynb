{
 "cells": [
  {
   "cell_type": "code",
   "execution_count": 1,
   "id": "cdda58ec",
   "metadata": {},
   "outputs": [],
   "source": [
    "import tensorflow as tf\n",
    "\n",
    "import INVARIANT\n",
    "import FLAGS"
   ]
  },
  {
   "cell_type": "code",
   "execution_count": 2,
   "id": "d8516738",
   "metadata": {},
   "outputs": [],
   "source": [
    "c = tf.keras.layers.Conv2D(1,3)"
   ]
  },
  {
   "cell_type": "code",
   "execution_count": 5,
   "id": "6b0ddf9c",
   "metadata": {},
   "outputs": [
    {
     "data": {
      "text/plain": [
       "{'name': 'conv2d',\n",
       " 'trainable': True,\n",
       " 'dtype': 'float32',\n",
       " 'filters': 1,\n",
       " 'kernel_size': (3, 3),\n",
       " 'strides': (1, 1),\n",
       " 'padding': 'valid',\n",
       " 'data_format': 'channels_last',\n",
       " 'dilation_rate': (1, 1),\n",
       " 'groups': 1,\n",
       " 'activation': 'linear',\n",
       " 'use_bias': True,\n",
       " 'kernel_initializer': {'class_name': 'GlorotUniform',\n",
       "  'config': {'seed': None}},\n",
       " 'bias_initializer': {'class_name': 'Zeros', 'config': {}},\n",
       " 'kernel_regularizer': None,\n",
       " 'bias_regularizer': None,\n",
       " 'activity_regularizer': None,\n",
       " 'kernel_constraint': None,\n",
       " 'bias_constraint': None}"
      ]
     },
     "execution_count": 5,
     "metadata": {},
     "output_type": "execute_result"
    }
   ],
   "source": [
    "c.get_config()"
   ]
  },
  {
   "cell_type": "code",
   "execution_count": null,
   "id": "62fc3e94",
   "metadata": {},
   "outputs": [],
   "source": [
    "#vision field table\n",
    "#<<1024\n",
    "#3=1+1+1\n",
    "#5=3+1+1\n",
    "#7=5+1+1\n",
    "#9=7+1+1\n",
    "#10=9+1 << 512\n",
    "#14=10+2+2\n",
    "#16=14+2 << 256\n",
    "#24=16+4+4\n",
    "#32=24+4+4\n",
    "#36=32+4 (32=8*4) <<128 -------------OUTPUT  (size: 0-36 pixel)\n",
    "#52=36+8+8\n",
    "#68=52+8+8\n",
    "#76=68+8 (64=16*4) <<64 -------------OUTPUT  (size: 37-76 pixel)\n",
    "#108=76+16+16\n",
    "#140=108+16+16\n",
    "#156=140+16 (128=32*4) <<32 -------------OUTPUT  (size: 77-156 pixel)\n",
    "#220=156+32+32\n",
    "#284=220+32+32\n",
    "#316=284+32 (256=64*4) <<16 -------------OUTPUT  (size: 157-316 pixel)\n",
    "#444=316+64+64\n",
    "#572=444+64+64\n",
    "#572+64=636 (512=128*4) <<8 -------------OUTPUT  (size: 317-636 pixel)\n",
    "#636+128+128=892 <<8 -------------OUTPUT  (size: 637-892 pixel)\n",
    "#892+128+128=1020 <<8 -------------OUTPUT  (size: 892-1024 pixel)"
   ]
  },
  {
   "cell_type": "code",
   "execution_count": null,
   "id": "9389717b",
   "metadata": {},
   "outputs": [],
   "source": [
    "def mish(x):\n",
    "    return x * tf.math.tanh(tf.math.softplus(x))"
   ]
  },
  {
   "cell_type": "code",
   "execution_count": 6,
   "id": "3e996c49",
   "metadata": {},
   "outputs": [],
   "source": [
    "class ResBlock(tf.keras.layers.Layer):\n",
    "    def __init__(self,dim,depth):\n",
    "        super().__init__()\n",
    "        self.first_layer = tf.keras.layers.Conv2D(dim,3,activation=mish)\n",
    "        self.rest_layers = [tf.keras.layers.Conv2D(dim,1,activation=mish) for _ in range(depth-1)]\n",
    "        \n",
    "    def call(self,inp,training):\n",
    "        x0 = self.first_layer(inp,training=training)\n",
    "        x1 = x0\n",
    "        for l in self.rest_layers:\n",
    "            x1 = l(x1,training=training)\n",
    "        output = x0 + x1\n",
    "        return output"
   ]
  },
  {
   "cell_type": "code",
   "execution_count": null,
   "id": "0bf7e8c0",
   "metadata": {},
   "outputs": [],
   "source": [
    "class Block(tf.keras.layers.Layer):\n",
    "    def __init__(self,dim,subblocks,depth):\n",
    "        super().__init__()\n",
    "        self.padding = tf.keras.layers.ZeroPadding2D(subblocks)\n",
    "        self.subblocks = [ResBlock(dim,depth) for _ in range(subblocks)]\n",
    "        self.dense = tf.keras.layers.Conv2D(dim,1,activation=mish)\n",
    "    def call(self,inp,training):\n",
    "        x = self.padding(inp,training=training)\n",
    "        for sb in self.subblocks:\n",
    "            x = sb(x,training=training)\n",
    "        output = tf.concat([inp,x],axis=-1)\n",
    "        output = self.dense(output,training=training)\n",
    "        return output"
   ]
  },
  {
   "cell_type": "code",
   "execution_count": null,
   "id": "fb0c58ee",
   "metadata": {},
   "outputs": [],
   "source": [
    "class Model(tf.keras.Model):\n",
    "    def "
   ]
  },
  {
   "cell_type": "code",
   "execution_count": null,
   "id": "779f4b1a",
   "metadata": {},
   "outputs": [],
   "source": [
    "FLAGS.DATA.TRAIN.LABEL_FOLDER = r'C:\\Users\\Atlas\\Desktop\\Sinalboard_OCR\\dataset\\train\\label\\custom'\n",
    "FLAGS.DATA.TRAIN.IMAGE_FOLDER = r'C:\\Users\\Atlas\\Desktop\\Sinalboard_OCR\\dataset\\train\\image\\official'\n",
    "FLAGS.DATA.TRAIN.VALIDATION_SPLIT_RATIO = 0.05\n",
    "FLAGS.DATA.TRAIN.VALIDATION_SPLIT_RANDOM_STATE = 100\n",
    "FLAGS.DATA.TRAIN.BATCH_SIZE = 8\n",
    "FLAGS.DATA.TEST = edict()\n",
    "FLAGS.DATA.TEST.IMAGE_PATH = None\n",
    "FLAGS.DATA.TEST.BATCH_SIZE = None\n",
    "\n",
    "MODEL = None\n",
    "\n",
    "OPTIMIZER = edict()\n",
    "OPTIMIZER.TYPE = None\n",
    "OPTIMIZER.MAX_LEARNING_RATE = None\n",
    "OPTIMIZER.SCHEDULE_GAMMA = None\n",
    "\n",
    "EPOCHS = edict()\n",
    "EPOCHS.TOTAL = None\n",
    "EPOCHS.WARMUP = None\n",
    "\n",
    "LOGGING = edict()\n",
    "LOGGING.PATH = None\n",
    "LOGGING.MODEL_NAME = None\n",
    "LOGGING.TRIAL_NUMBER = None\n",
    "LOGGING.NOTE = None\n",
    "LOGGING.SAMPLES_PER_LOG = None\n",
    "LOGGING.TEST_IMAGE_COLUMNS = None"
   ]
  }
 ],
 "metadata": {
  "kernelspec": {
   "display_name": "Python 3",
   "language": "python",
   "name": "python3"
  },
  "language_info": {
   "codemirror_mode": {
    "name": "ipython",
    "version": 3
   },
   "file_extension": ".py",
   "mimetype": "text/x-python",
   "name": "python",
   "nbconvert_exporter": "python",
   "pygments_lexer": "ipython3",
   "version": "3.8.5"
  },
  "toc": {
   "base_numbering": 1,
   "nav_menu": {},
   "number_sections": true,
   "sideBar": true,
   "skip_h1_title": false,
   "title_cell": "Table of Contents",
   "title_sidebar": "Contents",
   "toc_cell": false,
   "toc_position": {},
   "toc_section_display": true,
   "toc_window_display": false
  },
  "varInspector": {
   "cols": {
    "lenName": 16,
    "lenType": 16,
    "lenVar": 40
   },
   "kernels_config": {
    "python": {
     "delete_cmd_postfix": "",
     "delete_cmd_prefix": "del ",
     "library": "var_list.py",
     "varRefreshCmd": "print(var_dic_list())"
    },
    "r": {
     "delete_cmd_postfix": ") ",
     "delete_cmd_prefix": "rm(",
     "library": "var_list.r",
     "varRefreshCmd": "cat(var_dic_list()) "
    }
   },
   "types_to_exclude": [
    "module",
    "function",
    "builtin_function_or_method",
    "instance",
    "_Feature"
   ],
   "window_display": false
  }
 },
 "nbformat": 4,
 "nbformat_minor": 5
}
