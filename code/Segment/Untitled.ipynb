{
 "cells": [
  {
   "cell_type": "code",
   "execution_count": 1,
   "id": "068da728",
   "metadata": {},
   "outputs": [],
   "source": [
    "import pathlib\n",
    "from sklearn import model_selection\n",
    "import sklearn\n",
    "import json\n",
    "import matplotlib.pyplot as plt"
   ]
  },
  {
   "cell_type": "code",
   "execution_count": null,
   "id": "0cd634ab",
   "metadata": {},
   "outputs": [],
   "source": [
    "def get_dataset(label_path,image_path,batch_size,validation_ratio,random_state):\n",
    "    label_paths = list(pathlib.Path(label_path).iterdir())\n",
    "    train_label_paths, validation_label_paths = model_selection.train_test_split(\n",
    "        label_paths,\n",
    "        test_size=validation_ratio,\n",
    "        random_state=random_state)\n",
    "    train_data = Dataset(train_label_paths,image_path,batch_size,False)\n",
    "    validation_data = Dataset(validation_label_paths,image_path,batch_size,True)\n",
    "    return train_data, validation_data"
   ]
  },
  {
   "cell_type": "code",
   "execution_count": null,
   "id": "002fb0b6",
   "metadata": {},
   "outputs": [],
   "source": [
    "class Base:\n",
    "    def __init__(self,image_path,batch_size):\n",
    "        self.image_path = pathlib.Path(image_path)\n",
    "        self.batch_size = batch_size\n",
    "        \n",
    "    def get_image(self,path,arg):\n",
    "        image = self.read_image(path)\n",
    "#         if arg:\n",
    "#             image = self.image_arg(image)\n",
    "        image = self.to_output_image(image)\n",
    "        return image\n",
    "\n",
    "    def read_image(self,path):\n",
    "        image = plt.imread(path)\n",
    "#         image = cv2.resize(image,INVARIANT.DATASET_IMAGE_SHAPE,interpolation=cv2.INTER_LINEAR)\n",
    "        image = image.astype(int)\n",
    "        return image\n",
    "    \n",
    "    "
   ]
  },
  {
   "cell_type": "code",
   "execution_count": null,
   "id": "a2a0db9a",
   "metadata": {},
   "outputs": [],
   "source": [
    "class Dataset(Base):\n",
    "    def __init__(self,label_paths,image_path,batch_size,is_validation):\n",
    "        super().__init__(image_path,batch_size)\n",
    "        self.label_paths = label_paths\n",
    "        \n",
    "    def __iter__(self):\n",
    "        self.count = 0\n",
    "        if not self.is_validation:\n",
    "            self.label_paths = sklearn.utils.shuffle(self.label_paths)\n",
    "        return self\n",
    "\n",
    "    def __next__(self):\n",
    "        if self.count < self.table.index.size:\n",
    "#             batch_image = []\n",
    "#             batch_xywh = []\n",
    "            for label_path in self.label_paths[self.count:self.count+self.batch_size]:\n",
    "                label = json.loads(label_path.read_text(encoding='utf8'))\n",
    "                image_path = self.image_path.joinpath(lable['ImageName']).as_posix()\n",
    "                \n",
    "                image = self.read_image(image_path)\n",
    "                xywh = np.array([xywh['xywh'] for xywh in label['bboxes']])\n",
    "                xywh[:,0]-xywh[:,2]\n",
    "                xywh[:,0]+xywh[:,2]\n",
    "                xywh[:,1]-xywh[:,3]\n",
    "                xywh[:,1]-xywh[:,3]\n",
    "                \n",
    "                rect = \n",
    "                polygon = np.array([points['points'] for points in label['bboxes']])\n",
    "                offset = \n",
    "                \n",
    "                \n",
    "                \n",
    "                batch_image.append(image)\n",
    "                batch_xywh.append(xywh)\n",
    "            batch_image = np.stack(batch_image,axis=0)\n",
    "            batch_xywh = np.stack(batch_xywh,axis=0)\n",
    "            self.count += self.batch_size\n",
    "            return batch_image,batch_xywh\n",
    "        else:\n",
    "            raise StopIteration\n",
    "\n",
    "    def __len__(self):\n",
    "        return self.table.index.size // self.batch_size + 1\n",
    "    \n",
    "    def __getitem__(self,key):\n",
    "        return __class__(self.table.iloc[key],self.image_path,self.batch_size,self.is_validation)\n",
    "    \n",
    "        \n",
    "    "
   ]
  },
  {
   "cell_type": "code",
   "execution_count": null,
   "id": "7d55799b",
   "metadata": {},
   "outputs": [],
   "source": [
    "class Test(Base):"
   ]
  }
 ],
 "metadata": {
  "kernelspec": {
   "display_name": "Python 3",
   "language": "python",
   "name": "python3"
  },
  "language_info": {
   "codemirror_mode": {
    "name": "ipython",
    "version": 3
   },
   "file_extension": ".py",
   "mimetype": "text/x-python",
   "name": "python",
   "nbconvert_exporter": "python",
   "pygments_lexer": "ipython3",
   "version": "3.8.5"
  },
  "toc": {
   "base_numbering": 1,
   "nav_menu": {},
   "number_sections": true,
   "sideBar": true,
   "skip_h1_title": false,
   "title_cell": "Table of Contents",
   "title_sidebar": "Contents",
   "toc_cell": false,
   "toc_position": {},
   "toc_section_display": true,
   "toc_window_display": false
  },
  "varInspector": {
   "cols": {
    "lenName": 16,
    "lenType": 16,
    "lenVar": 40
   },
   "kernels_config": {
    "python": {
     "delete_cmd_postfix": "",
     "delete_cmd_prefix": "del ",
     "library": "var_list.py",
     "varRefreshCmd": "print(var_dic_list())"
    },
    "r": {
     "delete_cmd_postfix": ") ",
     "delete_cmd_prefix": "rm(",
     "library": "var_list.r",
     "varRefreshCmd": "cat(var_dic_list()) "
    }
   },
   "types_to_exclude": [
    "module",
    "function",
    "builtin_function_or_method",
    "instance",
    "_Feature"
   ],
   "window_display": false
  }
 },
 "nbformat": 4,
 "nbformat_minor": 5
}
