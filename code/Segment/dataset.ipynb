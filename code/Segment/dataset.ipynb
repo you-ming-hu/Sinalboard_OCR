{
 "cells": [
  {
   "cell_type": "code",
   "execution_count": 63,
   "id": "aba0ca60",
   "metadata": {},
   "outputs": [],
   "source": [
    "import tensorflow as tf\n",
    "import json\n",
    "import numpy as np\n",
    "import cv2"
   ]
  },
  {
   "cell_type": "code",
   "execution_count": 4,
   "id": "55f424f5",
   "metadata": {},
   "outputs": [],
   "source": [
    "labels = tf.data.Dataset.list_files(r'D:\\Competitions\\ComputerVision\\OCR\\Signalboard\\dataset\\train\\label\\official\\*.json')"
   ]
  },
  {
   "cell_type": "code",
   "execution_count": 64,
   "id": "9abb2b13",
   "metadata": {},
   "outputs": [
    {
     "data": {
      "text/plain": [
       "array([[ 805,  613,  255,   53],\n",
       "       [ 692,  557,  106,  111],\n",
       "       [ 701, 1016,    8,    9],\n",
       "       [ 694, 1008,   18,   12],\n",
       "       [ 692,  956,   17,   56],\n",
       "       [ 806,  620,   46,   47],\n",
       "       [ 957,  615,   48,   50],\n",
       "       [ 908,  619,   43,   40],\n",
       "       [1012,  616,   47,   48],\n",
       "       [ 852,  618,   44,   47],\n",
       "       [ 693,  992,   17,   20],\n",
       "       [ 694,  974,   15,   20],\n",
       "       [ 694,  957,   15,   18]])"
      ]
     },
     "execution_count": 64,
     "metadata": {},
     "output_type": "execute_result"
    }
   ],
   "source": [
    "decode_json(r'D:\\Competitions\\ComputerVision\\OCR\\Signalboard\\dataset\\train\\label\\official\\img_1.json')"
   ]
  },
  {
   "cell_type": "code",
   "execution_count": 61,
   "id": "7c073416",
   "metadata": {},
   "outputs": [],
   "source": [
    "def decode_json(filepath):\n",
    "    byte = tf.io.read_file(filepath)\n",
    "    label = json.loads(byte.numpy())\n",
    "    \n",
    "    H = int(label['imageHeight'])\n",
    "    W = int(label['imageWidth'])\n",
    "    \n",
    "    polygon = np.array([p['points'] for p in label['shapes']])\n",
    "    #因為標記座標可能超出圖片範圍，所以要修正\n",
    "    polygon[:,:,0] = np.clip(polygon[:,:,0],0,W)\n",
    "    polygon[:,:,1] = np.clip(polygon[:,:,1],0,H)\n",
    "    \n",
    "    xywh = np.array([cv2.boundingRect(p) for p in polygon])\n",
    "    \n",
    "    polygon = polygon/np.array([W,H])\n",
    "    xywh = xywh/np.array([W,H,W,H])\n",
    "    center = np.stack([xywh[:,0]+xywh[:,2]/2, xywh[:,1]+xywh[:,3]/2],axis=-1)\n",
    "    \n",
    "    ul = np.stack(xywh[:,0],xywh[:,1],axis=-1)\n",
    "    ur = np.stack(xywh[:,0]+xywh[:,2],xywh[:,1],axis=-1)\n",
    "    dr = np.stack(xywh[:,0]+xywh[:,2],xywh[:,1]+xywh[:,3],axis=-1)\n",
    "    dl = np.stack(xywh[:,0],xywh[:,1]+xywh[:,3],axis=-1)\n",
    "    rect = np.stack([ul,ur,dr,dl],axis=1)\n",
    "    \n",
    "    offset = polygon - rect\n",
    "    \n",
    "    group = np.array([p['group_id'] for p in label['shapes']])\n",
    "    \n",
    "#     bboxes = []\n",
    "#     for shape in official_label['shapes']:\n",
    "#         points = np.array(shape['points'])\n",
    "#         \n",
    "#         points[:,0] = np.clip(points[:,0],0,W)\n",
    "#         points[:,1] = np.clip(points[:,1],0,H)        \n",
    "#         x,y,w,h = cv2.boundingRect(points)\n",
    "        \n",
    "#         #四邊形座標依照圖片尺寸正規化\n",
    "#         points = points/np.array([W,H])\n",
    "#         #矩形bbox的xywh依照圖片尺寸正規化，並且將定位座標從左上角改為bbox中心\n",
    "#         x,w = x/W, w/W\n",
    "#         y,h = y/H, h/H\n",
    "#         x = x+w/2\n",
    "#         y = y+h/2\n",
    "        \n",
    "#         bbox = {}\n",
    "#         bbox['text'] = shape['label']\n",
    "#         bbox['group'] = shape['group_id']\n",
    "#         bbox['points'] = points.tolist()\n",
    "#         bbox['center'] = points.mean(axis=0).tolist()\n",
    "#         bbox['xywh'] = [x,y,w,h]\n",
    "#         bboxes.append(bbox)\n",
    "        \n",
    "#     bboxes = sorted(bboxes,key = lambda x: x['center'])\n",
    "    \n",
    "#     my_label = {}\n",
    "#     my_label['ImageName'] = official_label['imagePath']\n",
    "#     my_label['ImageHeight'] = H\n",
    "#     my_label['ImageWidth'] = W\n",
    "#     my_label['bboxes'] = bboxes\n",
    "#     my_label['bboxes_count'] = len(bboxes)\n",
    "    \n",
    "    return xywh\n",
    "\n",
    "def parse_json(filepath):\n",
    "    \n",
    "    [js,] = tf.py_function(decode_json, [byte], [tf.string])\n",
    "    return js\n"
   ]
  },
  {
   "cell_type": "code",
   "execution_count": 55,
   "id": "49c1151c",
   "metadata": {},
   "outputs": [],
   "source": [
    "x = labels.map(parse_json,num_parallel_calls=tf.data.AUTOTUNE)"
   ]
  },
  {
   "cell_type": "code",
   "execution_count": 56,
   "id": "2e47aa12",
   "metadata": {},
   "outputs": [],
   "source": [
    "s = list(x.take(5).as_numpy_iterator())[0]"
   ]
  },
  {
   "cell_type": "code",
   "execution_count": 58,
   "id": "8ff17fc3",
   "metadata": {},
   "outputs": [],
   "source": [
    "a = tf.zeros((2,2))"
   ]
  },
  {
   "cell_type": "code",
   "execution_count": 59,
   "id": "34ca97cf",
   "metadata": {},
   "outputs": [
    {
     "ename": "TypeError",
     "evalue": "'tensorflow.python.framework.ops.EagerTensor' object does not support item assignment",
     "output_type": "error",
     "traceback": [
      "\u001b[1;31m---------------------------------------------------------------------------\u001b[0m",
      "\u001b[1;31mTypeError\u001b[0m                                 Traceback (most recent call last)",
      "\u001b[1;32m<ipython-input-59-2eab485d8688>\u001b[0m in \u001b[0;36m<module>\u001b[1;34m\u001b[0m\n\u001b[1;32m----> 1\u001b[1;33m \u001b[0ma\u001b[0m\u001b[1;33m[\u001b[0m\u001b[1;36m0\u001b[0m\u001b[1;33m]\u001b[0m \u001b[1;33m=\u001b[0m\u001b[1;36m1\u001b[0m\u001b[1;33m\u001b[0m\u001b[1;33m\u001b[0m\u001b[0m\n\u001b[0m",
      "\u001b[1;31mTypeError\u001b[0m: 'tensorflow.python.framework.ops.EagerTensor' object does not support item assignment"
     ]
    }
   ],
   "source": [
    "a[0] =1"
   ]
  },
  {
   "cell_type": "code",
   "execution_count": 57,
   "id": "4e33c4b9",
   "metadata": {},
   "outputs": [
    {
     "data": {
      "text/plain": [
       "b'img_10992.jpg'"
      ]
     },
     "execution_count": 57,
     "metadata": {},
     "output_type": "execute_result"
    }
   ],
   "source": [
    "s"
   ]
  },
  {
   "cell_type": "code",
   "execution_count": 12,
   "id": "72e6bed2",
   "metadata": {},
   "outputs": [
    {
     "data": {
      "text/plain": [
       "{'version': '4.5.7',\n",
       " 'flags': {},\n",
       " 'shapes': [{'label': '站',\n",
       "   'points': [[57, 162], [63, 173], [60, 191], [54, 181]],\n",
       "   'group_id': 1,\n",
       "   'shape_type': 'polygon',\n",
       "   'flags': {}},\n",
       "  {'label': '電',\n",
       "   'points': [[50, 150], [56, 162], [53, 180], [47, 170]],\n",
       "   'group_id': 1,\n",
       "   'shape_type': 'polygon',\n",
       "   'flags': {}},\n",
       "  {'label': '',\n",
       "   'points': [[23, 145], [51, 194], [49, 202], [20, 158]],\n",
       "   'group_id': 5,\n",
       "   'shape_type': 'polygon',\n",
       "   'flags': {}},\n",
       "  {'label': '電動機車充電站',\n",
       "   'points': [[14, 88], [64, 174], [60, 191], [10, 108]],\n",
       "   'group_id': 0,\n",
       "   'shape_type': 'polygon',\n",
       "   'flags': {}},\n",
       "  {'label': 'KYMCO',\n",
       "   'points': [[17, 65], [54, 127], [49, 142], [14, 83]],\n",
       "   'group_id': 2,\n",
       "   'shape_type': 'polygon',\n",
       "   'flags': {}},\n",
       "  {'label': '大',\n",
       "   'points': [[917, 557], [1101, 559], [1110, 736], [913, 738]],\n",
       "   'group_id': 1,\n",
       "   'shape_type': 'polygon',\n",
       "   'flags': {}},\n",
       "  {'label': '王',\n",
       "   'points': [[1133, 558], [1314, 557], [1328, 733], [1130, 735]],\n",
       "   'group_id': 1,\n",
       "   'shape_type': 'polygon',\n",
       "   'flags': {}},\n",
       "  {'label': '豆',\n",
       "   'points': [[495, 551], [679, 553], [687, 737], [491, 738]],\n",
       "   'group_id': 1,\n",
       "   'shape_type': 'polygon',\n",
       "   'flags': {}},\n",
       "  {'label': '海',\n",
       "   'points': [[283, 550], [467, 552], [475, 735], [279, 737]],\n",
       "   'group_id': 1,\n",
       "   'shape_type': 'polygon',\n",
       "   'flags': {}},\n",
       "  {'label': '四',\n",
       "   'points': [[77, 551], [260, 553], [268, 737], [72, 738]],\n",
       "   'group_id': 1,\n",
       "   'shape_type': 'polygon',\n",
       "   'flags': {}},\n",
       "  {'label': '',\n",
       "   'points': [[881, 992], [898, 992], [898, 997], [882, 998]],\n",
       "   'group_id': 5,\n",
       "   'shape_type': 'polygon',\n",
       "   'flags': {}},\n",
       "  {'label': '',\n",
       "   'points': [[1239, 983], [1257, 983], [1257, 989], [1240, 989]],\n",
       "   'group_id': 5,\n",
       "   'shape_type': 'polygon',\n",
       "   'flags': {}},\n",
       "  {'label': '漿',\n",
       "   'points': [[710, 554], [876, 556], [887, 735], [706, 738]],\n",
       "   'group_id': 1,\n",
       "   'shape_type': 'polygon',\n",
       "   'flags': {}},\n",
       "  {'label': '四海豆漿大王',\n",
       "   'points': [[74, 540], [1315, 557], [1330, 738], [65, 742]],\n",
       "   'group_id': 0,\n",
       "   'shape_type': 'polygon',\n",
       "   'flags': {}},\n",
       "  {'label': '和',\n",
       "   'points': [[723, 438], [904, 440], [905, 526], [711, 522]],\n",
       "   'group_id': 1,\n",
       "   'shape_type': 'polygon',\n",
       "   'flags': {}},\n",
       "  {'label': '永',\n",
       "   'points': [[482, 438], [663, 440], [664, 526], [470, 522]],\n",
       "   'group_id': 1,\n",
       "   'shape_type': 'polygon',\n",
       "   'flags': {}},\n",
       "  {'label': '永和',\n",
       "   'points': [[476, 438], [905, 439], [905, 528], [464, 525]],\n",
       "   'group_id': 0,\n",
       "   'shape_type': 'polygon',\n",
       "   'flags': {}},\n",
       "  {'label': '',\n",
       "   'points': [[102, 960], [118, 960], [118, 967], [102, 967]],\n",
       "   'group_id': 5,\n",
       "   'shape_type': 'polygon',\n",
       "   'flags': {}},\n",
       "  {'label': '45-74',\n",
       "   'points': [[31, 997], [53, 1012], [47, 1023], [23, 1007]],\n",
       "   'group_id': 2,\n",
       "   'shape_type': 'polygon',\n",
       "   'flags': {}},\n",
       "  {'label': '',\n",
       "   'points': [[40, 988], [56, 997], [50, 1007], [36, 996]],\n",
       "   'group_id': 5,\n",
       "   'shape_type': 'polygon',\n",
       "   'flags': {}},\n",
       "  {'label': '4090',\n",
       "   'points': [[44, 976], [66, 989], [59, 998], [38, 986]],\n",
       "   'group_id': 2,\n",
       "   'shape_type': 'polygon',\n",
       "   'flags': {}},\n",
       "  {'label': '電',\n",
       "   'points': [[14, 90], [22, 102], [18, 120], [11, 109]],\n",
       "   'group_id': 1,\n",
       "   'shape_type': 'polygon',\n",
       "   'flags': {}},\n",
       "  {'label': '動',\n",
       "   'points': [[22, 102], [29, 114], [26, 132], [19, 122]],\n",
       "   'group_id': 1,\n",
       "   'shape_type': 'polygon',\n",
       "   'flags': {}},\n",
       "  {'label': '機',\n",
       "   'points': [[30, 115], [37, 127], [33, 145], [26, 134]],\n",
       "   'group_id': 1,\n",
       "   'shape_type': 'polygon',\n",
       "   'flags': {}},\n",
       "  {'label': '車',\n",
       "   'points': [[37, 127], [44, 139], [40, 157], [34, 147]],\n",
       "   'group_id': 1,\n",
       "   'shape_type': 'polygon',\n",
       "   'flags': {}},\n",
       "  {'label': '充',\n",
       "   'points': [[44, 140], [50, 152], [47, 169], [40, 159]],\n",
       "   'group_id': 1,\n",
       "   'shape_type': 'polygon',\n",
       "   'flags': {}}],\n",
       " 'imagePath': 'img_7243.jpg',\n",
       " 'imageData': None,\n",
       " 'imageHeight': '1024',\n",
       " 'imageWidth': '1365'}"
      ]
     },
     "execution_count": 12,
     "metadata": {},
     "output_type": "execute_result"
    }
   ],
   "source": [
    "json.loads(s)"
   ]
  }
 ],
 "metadata": {
  "kernelspec": {
   "display_name": "Python 3",
   "language": "python",
   "name": "python3"
  },
  "language_info": {
   "codemirror_mode": {
    "name": "ipython",
    "version": 3
   },
   "file_extension": ".py",
   "mimetype": "text/x-python",
   "name": "python",
   "nbconvert_exporter": "python",
   "pygments_lexer": "ipython3",
   "version": "3.8.3"
  },
  "toc": {
   "base_numbering": 1,
   "nav_menu": {},
   "number_sections": true,
   "sideBar": true,
   "skip_h1_title": false,
   "title_cell": "Table of Contents",
   "title_sidebar": "Contents",
   "toc_cell": false,
   "toc_position": {},
   "toc_section_display": true,
   "toc_window_display": false
  },
  "varInspector": {
   "cols": {
    "lenName": 16,
    "lenType": 16,
    "lenVar": 40
   },
   "kernels_config": {
    "python": {
     "delete_cmd_postfix": "",
     "delete_cmd_prefix": "del ",
     "library": "var_list.py",
     "varRefreshCmd": "print(var_dic_list())"
    },
    "r": {
     "delete_cmd_postfix": ") ",
     "delete_cmd_prefix": "rm(",
     "library": "var_list.r",
     "varRefreshCmd": "cat(var_dic_list()) "
    }
   },
   "types_to_exclude": [
    "module",
    "function",
    "builtin_function_or_method",
    "instance",
    "_Feature"
   ],
   "window_display": false
  }
 },
 "nbformat": 4,
 "nbformat_minor": 5
}
