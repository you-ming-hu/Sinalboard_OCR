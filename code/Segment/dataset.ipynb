{
 "cells": [
  {
   "cell_type": "code",
   "execution_count": 1,
   "id": "aba0ca60",
   "metadata": {},
   "outputs": [],
   "source": [
    "import tensorflow as tf\n",
    "import json\n",
    "import numpy as np\n",
    "import cv2\n",
    "import pathlib\n",
    "from sklearn.model_selection import train_test_split"
   ]
  },
  {
   "cell_type": "code",
   "execution_count": null,
   "id": "a215065f",
   "metadata": {},
   "outputs": [],
   "source": [
    "# labels = tf.data.Dataset.list_files(r'D:\\Competitions\\ComputerVision\\OCR\\Signalboard\\dataset\\train\\label\\official\\*.json')"
   ]
  },
  {
   "cell_type": "code",
   "execution_count": 5,
   "id": "731ae24f",
   "metadata": {},
   "outputs": [],
   "source": [
    "image_shape = (1024,1024)\n",
    "image_folder = r'C:\\Users\\Atlas\\Desktop\\Sinalboard_OCR\\dataset\\train\\image\\official'\n",
    "label_folder = r'C:\\Users\\Atlas\\Desktop\\Sinalboard_OCR\\dataset\\train\\label\\custom'\n",
    "validation_ratio = 0.05\n",
    "random_state = 100\n",
    "batch_size = 8\n",
    "\n",
    "\n",
    "# total_data_count = len(list())\n",
    "# split_count = round(total_data_count * validation_ratio)\n",
    "\n",
    "# dataset = tf.data.Dataset.list_files(r'C:\\Users\\Atlas\\Desktop\\Sinalboard_OCR\\dataset\\train\\label\\custom\\*.json',shuffle=False)\n",
    "# dataset = dataset.map(lambda x:(x,image_path,image_shape),num_parallel_calls=tf.data.AUTOTUNE)\n",
    "# dataset = dataset.map(read_json,num_parallel_calls=tf.data.AUTOTUNE)\n",
    "\n",
    "# validation_data = dataset.take(split_count).cache()\n",
    "\n",
    "# train_data = dataset.skip(split_count).cache()\n",
    "\n",
    "# dataset = dataset.cache()\n",
    "# dataset"
   ]
  },
  {
   "cell_type": "code",
   "execution_count": 25,
   "id": "59353607",
   "metadata": {},
   "outputs": [],
   "source": [
    "t,v = Dataset(label_folder,image_folder,batch_size,image_shape).split(validation_ratio,random_state)"
   ]
  },
  {
   "cell_type": "code",
   "execution_count": 26,
   "id": "02cfc1cf",
   "metadata": {},
   "outputs": [],
   "source": [
    "image_path, center, ltwh, offset, determine = next(iter(t.take(1)))"
   ]
  },
  {
   "cell_type": "code",
   "execution_count": 34,
   "id": "a315c033",
   "metadata": {},
   "outputs": [],
   "source": [
    "x = t.map(lambda image_path, center, ltwh, offset, determine: tf.py_function(\n",
    "    transform,\n",
    "    [image_path, center, ltwh, offset, determine],\n",
    "    [tf.uint8,tf.float64,tf.float64,tf.float64,tf.float64,tf.float64,tf.float64,tf.float64]\n",
    "))"
   ]
  },
  {
   "cell_type": "code",
   "execution_count": 36,
   "id": "10c8d82e",
   "metadata": {},
   "outputs": [
    {
     "data": {
      "text/plain": [
       "<tf.Tensor: shape=(128, 128), dtype=float64, numpy=\n",
       "array([[0., 0., 0., ..., 0., 0., 0.],\n",
       "       [0., 0., 0., ..., 0., 0., 0.],\n",
       "       [0., 0., 0., ..., 0., 0., 0.],\n",
       "       ...,\n",
       "       [0., 0., 0., ..., 0., 0., 0.],\n",
       "       [0., 0., 0., ..., 0., 0., 0.],\n",
       "       [0., 0., 0., ..., 0., 0., 0.]])>"
      ]
     },
     "execution_count": 36,
     "metadata": {},
     "output_type": "execute_result"
    }
   ],
   "source": [
    "next(iter(x.take(1)))[1]"
   ]
  },
  {
   "cell_type": "code",
   "execution_count": 41,
   "id": "7263ba78",
   "metadata": {},
   "outputs": [
    {
     "data": {
      "text/plain": [
       "<tf.Tensor: shape=(14,), dtype=bool, numpy=\n",
       "array([False,  True, False, False, False, False, False, False, False,\n",
       "        True,  True,  True,  True,  True])>"
      ]
     },
     "execution_count": 41,
     "metadata": {},
     "output_type": "execute_result"
    }
   ],
   "source": [
    "(determine>100) & (determine<120)"
   ]
  },
  {
   "cell_type": "code",
   "execution_count": 42,
   "id": "05ff3770",
   "metadata": {},
   "outputs": [
    {
     "data": {
      "text/plain": [
       "<tf.Tensor: shape=(14,), dtype=int32, numpy=\n",
       "array([848, 119, 122, 124, 126, 304, 219, 142,  25, 114, 109, 108, 115,\n",
       "       102])>"
      ]
     },
     "execution_count": 42,
     "metadata": {},
     "output_type": "execute_result"
    }
   ],
   "source": [
    "determine"
   ]
  },
  {
   "cell_type": "code",
   "execution_count": 56,
   "id": "a661e6d4",
   "metadata": {},
   "outputs": [
    {
     "data": {
      "text/plain": [
       "array([0.0625, 0.1875, 0.3125, 0.4375, 0.5625, 0.6875, 0.8125, 0.9375])"
      ]
     },
     "execution_count": 56,
     "metadata": {},
     "output_type": "execute_result"
    }
   ],
   "source": [
    "grid_count = 8\n",
    "blood = 1/(grid_count*2)\n",
    "np.linspace(0+blood,1-blood,grid_count)"
   ]
  },
  {
   "cell_type": "code",
   "execution_count": null,
   "id": "c1c9d20b",
   "metadata": {},
   "outputs": [],
   "source": [
    "[[],[],[],[]]"
   ]
  },
  {
   "cell_type": "code",
   "execution_count": 33,
   "id": "058df1c5",
   "metadata": {},
   "outputs": [],
   "source": [
    "def transform(image_path, center, ltwh, offset, determine):\n",
    "    image = tf.io.decode_jpeg(tf.io.read_file(image_path))\n",
    "    object_map_param = [\n",
    "        (128,(0,36)),\n",
    "        (64,(37,76)),\n",
    "        (32,(77,156)),\n",
    "        (16,(157,316)),\n",
    "        (8,(317,636)),\n",
    "        (8,(637,892)),\n",
    "        (8,(892,1024))]\n",
    "    object_map = []\n",
    "    for grid_count, object_determine_size_range in object_map_param:\n",
    "        smallest, biggest = object_determine_size_range\n",
    "        mask = \n",
    "        \n",
    "        object_map.append(np.zeros((grid_count,grid_count)))\n",
    "    return image, *object_map\n",
    "    \n",
    "    "
   ]
  },
  {
   "cell_type": "code",
   "execution_count": 24,
   "id": "1bee66e8",
   "metadata": {},
   "outputs": [],
   "source": [
    "class Dataset:\n",
    "    def __init__(self,label_folder,image_folder,batch_size,image_shape):\n",
    "        self.label_folder = label_folder\n",
    "        self.image_folder = image_folder\n",
    "        self.batch_size = batch_size\n",
    "        self.image_shape = image_shape\n",
    "    \n",
    "    def split(self,validation_ratio,random_state):\n",
    "        labels = [l.as_posix() for l in pathlib.Path(self.label_folder).iterdir()]\n",
    "        train_labels, validation_labels = train_test_split(labels,random_state=random_state)\n",
    "        train_data = self.create_dataset(train_labels,False)\n",
    "        validation_data = self.create_dataset(validation_labels,True)\n",
    "        return train_data, validation_data\n",
    "    \n",
    "    def create_dataset(self,labels,is_validation):\n",
    "        dataset = tf.data.Dataset.from_tensor_slices(labels)\n",
    "        dataset = dataset.map(\n",
    "            lambda path: tf.py_function(self.decode_json, [path], [tf.string, tf.float64, tf.float64, tf.float64, tf.int32]),\n",
    "            num_parallel_calls=tf.data.AUTOTUNE\n",
    "        )\n",
    "        dataset = dataset.cache()\n",
    "        if is_validation:\n",
    "            dataset = dataset.shuffle(buffer_size=5000)\n",
    "        dataset\n",
    "        return dataset\n",
    "        \n",
    "    def decode_json(self,path):\n",
    "        label = json.loads(tf.io.read_file(path).numpy())\n",
    "\n",
    "        rectangle = np.array([b['rectangle']['points'] for b in label['bboxes']])\n",
    "        polygon = np.array([b['polygon']['points'] for b in label['bboxes']])\n",
    "        offset = polygon - rectangle\n",
    "\n",
    "        ltwh = np.array([b['rectangle']['ltwh'] for b in label['bboxes']])\n",
    "        center = np.array([b['rectangle']['center'] for b in label['bboxes']])\n",
    "\n",
    "        determine = np.ceil(np.max(ltwh[:,2:]*np.array(self.image_shape),axis=-1)).astype(int)\n",
    "\n",
    "        image_path = tf.strings.join([self.image_folder,label['ImageName']],'/')\n",
    "        return image_path, center, ltwh, offset, determine"
   ]
  }
 ],
 "metadata": {
  "kernelspec": {
   "display_name": "Python 3",
   "language": "python",
   "name": "python3"
  },
  "language_info": {
   "codemirror_mode": {
    "name": "ipython",
    "version": 3
   },
   "file_extension": ".py",
   "mimetype": "text/x-python",
   "name": "python",
   "nbconvert_exporter": "python",
   "pygments_lexer": "ipython3",
   "version": "3.8.5"
  },
  "toc": {
   "base_numbering": 1,
   "nav_menu": {},
   "number_sections": true,
   "sideBar": true,
   "skip_h1_title": false,
   "title_cell": "Table of Contents",
   "title_sidebar": "Contents",
   "toc_cell": false,
   "toc_position": {},
   "toc_section_display": true,
   "toc_window_display": false
  },
  "varInspector": {
   "cols": {
    "lenName": 16,
    "lenType": 16,
    "lenVar": 40
   },
   "kernels_config": {
    "python": {
     "delete_cmd_postfix": "",
     "delete_cmd_prefix": "del ",
     "library": "var_list.py",
     "varRefreshCmd": "print(var_dic_list())"
    },
    "r": {
     "delete_cmd_postfix": ") ",
     "delete_cmd_prefix": "rm(",
     "library": "var_list.r",
     "varRefreshCmd": "cat(var_dic_list()) "
    }
   },
   "types_to_exclude": [
    "module",
    "function",
    "builtin_function_or_method",
    "instance",
    "_Feature"
   ],
   "window_display": false
  }
 },
 "nbformat": 4,
 "nbformat_minor": 5
}
